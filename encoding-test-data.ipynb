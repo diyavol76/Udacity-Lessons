{
 "cells": [
  {
   "cell_type": "code",
   "metadata": {
    "slideshow": {
     "slide_type": ""
    },
    "tags": [],
    "ExecuteTime": {
     "end_time": "2025-03-20T14:46:35.539438Z",
     "start_time": "2025-03-20T14:46:35.534320Z"
    }
   },
   "source": [
    "from __future__ import annotations\n",
    "import string\n",
    "import re\n",
    "from collections import defaultdict\n",
    "\n",
    "# TODO: Feel free to add other imports as needed"
   ],
   "outputs": [],
   "execution_count": 3
  },
  {
   "cell_type": "markdown",
   "metadata": {},
   "source": [
    "# Tokenization Steps\n",
    "\n",
    "In this exercise, you'll code your own tokenizer from scratching using base\n",
    "Python!\n",
    "\n",
    "You might normally start with a pretrained tokenizer, but this exercise will\n",
    "help you get to know see some of the tokenization steps better."
   ]
  },
  {
   "cell_type": "markdown",
   "metadata": {},
   "source": [
    "## Define Sample Text\n",
    "\n",
    "Let's first define some sample text you will use to test your tokenization\n",
    "steps."
   ]
  },
  {
   "cell_type": "code",
   "metadata": {
    "ExecuteTime": {
     "end_time": "2025-03-20T14:46:39.474187Z",
     "start_time": "2025-03-20T14:46:39.471427Z"
    }
   },
   "source": [
    "sample_text = '''Mr. Louis continued to say, \"Penguins are important, \n",
    "but we mustn't forget the nuumber 1 priority: the READER!\"\n",
    "'''\n",
    "\n",
    "print(sample_text)"
   ],
   "outputs": [
    {
     "name": "stdout",
     "output_type": "stream",
     "text": [
      "Mr. Louis continued to say, \"Penguins are important, \n",
      "but we mustn't forget the nuumber 1 priority: the READER!\"\n",
      "\n"
     ]
    }
   ],
   "execution_count": 4
  },
  {
   "cell_type": "markdown",
   "metadata": {},
   "source": [
    "## Normalization\n",
    "\n",
    "This step is where you'll normalize your text by converting to lowercase,\n",
    "removing accented characters, etc.\n",
    "\n",
    "For example, the text:\n",
    "```\n",
    "Did Uncle Max like the jalapeño dip?\n",
    "```\n",
    "might be normalized to:\n",
    "```\n",
    "did uncle max like the jalapeno dip\n",
    "```"
   ]
  },
  {
   "cell_type": "code",
   "metadata": {
    "slideshow": {
     "slide_type": ""
    },
    "tags": [],
    "ExecuteTime": {
     "end_time": "2025-03-20T14:50:02.236105Z",
     "start_time": "2025-03-20T14:50:02.231709Z"
    }
   },
   "source": [
    "def normalize_text(text: str) -> str:\n",
    "    # TODO: Normalize incoming text; can be multiple actions\n",
    "    acceptable_characters = (string.ascii_letters+ string.punctuation+ string.digits+string.whitespace)\n",
    "    normalized_text = ''.join(filter(lambda letter: letter in acceptable_characters, text))\n",
    "    normalized_text = normalized_text.lower()\n",
    "    return normalized_text"
   ],
   "outputs": [],
   "execution_count": 7
  },
  {
   "cell_type": "code",
   "metadata": {
    "ExecuteTime": {
     "end_time": "2025-03-20T14:50:02.737524Z",
     "start_time": "2025-03-20T14:50:02.734911Z"
    }
   },
   "source": [
    "# Test out your normalization\n",
    "normalize_text(sample_text)"
   ],
   "outputs": [
    {
     "data": {
      "text/plain": [
       "'mr. louis continued to say, \"penguins are important, \\nbut we mustn\\'t forget the nuumber 1 priority: the reader!\"\\n'"
      ]
     },
     "execution_count": 8,
     "metadata": {},
     "output_type": "execute_result"
    }
   ],
   "execution_count": 8
  },
  {
   "cell_type": "markdown",
   "metadata": {},
   "source": [
    "## Pretokenization\n",
    "\n",
    "This step will take in the normalized text and pretokenize the text into a list\n",
    "of smaller pieces.\n",
    "\n",
    "For example, the text:\n",
    "```\n",
    "Did Uncle Max like the jalapeño dip?\n",
    "```\n",
    "might be normalized & then pretokenized to:\n",
    "```\n",
    "[\n",
    "    'did',\n",
    "    'uncle',\n",
    "    'max',\n",
    "    'like',\n",
    "    'the',\n",
    "    'jalapeno',\n",
    "    'dip?',\n",
    "]\n",
    "```"
   ]
  },
  {
   "cell_type": "code",
   "metadata": {
    "ExecuteTime": {
     "end_time": "2025-03-20T14:51:26.098241Z",
     "start_time": "2025-03-20T14:51:26.092862Z"
    }
   },
   "source": [
    "def pretokenize_text(text: str) -> list[str]:\n",
    "    # TODO: Pretokenize normalized text\n",
    "    smaller_pieces = text.split()\n",
    "    return smaller_pieces"
   ],
   "outputs": [],
   "execution_count": 9
  },
  {
   "cell_type": "code",
   "metadata": {
    "ExecuteTime": {
     "end_time": "2025-03-20T14:51:27.674394Z",
     "start_time": "2025-03-20T14:51:27.670322Z"
    }
   },
   "source": [
    "# Test out your pretokenization step (after normalizing the text)\n",
    "normalized_text = normalize_text(sample_text)\n",
    "pretokenize_text(normalized_text)"
   ],
   "outputs": [
    {
     "data": {
      "text/plain": [
       "['mr.',\n",
       " 'louis',\n",
       " 'continued',\n",
       " 'to',\n",
       " 'say,',\n",
       " '\"penguins',\n",
       " 'are',\n",
       " 'important,',\n",
       " 'but',\n",
       " 'we',\n",
       " \"mustn't\",\n",
       " 'forget',\n",
       " 'the',\n",
       " 'nuumber',\n",
       " '1',\n",
       " 'priority:',\n",
       " 'the',\n",
       " 'reader!\"']"
      ]
     },
     "execution_count": 10,
     "metadata": {},
     "output_type": "execute_result"
    }
   ],
   "execution_count": 10
  },
  {
   "cell_type": "markdown",
   "metadata": {},
   "source": [
    "## Tokenization\n",
    "\n",
    "This step will take in the list of pretokenized pieces (after the text has \n",
    "been normalized) into the tokens that will be used.\n",
    "\n",
    "For example, the text:\n",
    "```\n",
    "Did Uncle Max like the jalapeño dip?\n",
    "```\n",
    "might be normalized, pretokenized, and then tokenized to:\n",
    "```\n",
    "[\n",
    "    'did',\n",
    "    'uncle',\n",
    "    'max',\n",
    "    'like',\n",
    "    'the',\n",
    "    'jalapeno',\n",
    "    'dip'\n",
    "    '?',\n",
    "]\n",
    "```"
   ]
  },
  {
   "cell_type": "code",
   "metadata": {
    "ExecuteTime": {
     "end_time": "2025-03-20T14:52:33.304371Z",
     "start_time": "2025-03-20T14:52:33.298508Z"
    }
   },
   "source": [
    "# Combine normalization and pretokenization steps before breaking things further\n",
    "def tokenize_text(text: str) -> list[str]:\n",
    "    # Apply normalization & pretokenization steps \n",
    "    normalized_text: str = normalize_text(text)\n",
    "    pretokenized_text: list[str] = pretokenize_text(normalized_text)\n",
    "    # TODO: Go through pretokenized text to create a list of tokens\n",
    "    tokens = []\n",
    "    for word in pretokenized_text:\n",
    "        tokens.extend(\n",
    "            re.findall(\n",
    "                r'\\w+|[^\\w\\s]', word))\n",
    "    return tokens"
   ],
   "outputs": [],
   "execution_count": 11
  },
  {
   "cell_type": "code",
   "metadata": {
    "ExecuteTime": {
     "end_time": "2025-03-20T14:52:33.846844Z",
     "start_time": "2025-03-20T14:52:33.843436Z"
    }
   },
   "source": [
    "# Test out your tokenization (that uses normalizing & pretokenizing functions)\n",
    "tokenize_text(sample_text)"
   ],
   "outputs": [
    {
     "data": {
      "text/plain": [
       "['mr',\n",
       " '.',\n",
       " 'louis',\n",
       " 'continued',\n",
       " 'to',\n",
       " 'say',\n",
       " ',',\n",
       " '\"',\n",
       " 'penguins',\n",
       " 'are',\n",
       " 'important',\n",
       " ',',\n",
       " 'but',\n",
       " 'we',\n",
       " 'mustn',\n",
       " \"'\",\n",
       " 't',\n",
       " 'forget',\n",
       " 'the',\n",
       " 'nuumber',\n",
       " '1',\n",
       " 'priority',\n",
       " ':',\n",
       " 'the',\n",
       " 'reader',\n",
       " '!',\n",
       " '\"']"
      ]
     },
     "execution_count": 12,
     "metadata": {},
     "output_type": "execute_result"
    }
   ],
   "execution_count": 12
  },
  {
   "cell_type": "markdown",
   "metadata": {},
   "source": [
    "## Postprocessing\n",
    "\n",
    "This final step will take in the list of tokens from the original text and add\n",
    "any special tokens to the text.\n",
    "\n",
    "For example, the text:\n",
    "```\n",
    "Did Uncle Max like the jalapeño dip?\n",
    "```\n",
    "might be normalized, pretokenized, and then tokenized to:\n",
    "```\n",
    "[\n",
    "    '[BOS]',\n",
    "    'did',\n",
    "    'uncle',\n",
    "    'max',\n",
    "    'like',\n",
    "    'the',\n",
    "    'jalapeno',\n",
    "    'dip'\n",
    "    '?',\n",
    "    '[EOS]',\n",
    "]\n",
    "```"
   ]
  },
  {
   "cell_type": "code",
   "metadata": {
    "ExecuteTime": {
     "end_time": "2025-03-20T14:54:50.472385Z",
     "start_time": "2025-03-20T14:54:50.467227Z"
    }
   },
   "source": [
    "def postprocess_tokens(tokens: list[str]) -> list[str]:\n",
    "    # TODO: Add beginning and end of sequence tokens to your tokenized text\n",
    "    # Can use a format like '[BOS]' & '[EOS]'\n",
    "    bos_token = ['BOS']\n",
    "    eos_token = ['EOS']\n",
    "    updated_tokens = (\n",
    "        bos_token + tokens + eos_token\n",
    "    )\n",
    "    return updated_tokens"
   ],
   "outputs": [],
   "execution_count": 13
  },
  {
   "cell_type": "code",
   "metadata": {
    "ExecuteTime": {
     "end_time": "2025-03-20T14:54:52.238652Z",
     "start_time": "2025-03-20T14:54:52.236068Z"
    }
   },
   "source": [
    "# Test full pipeline (normalizing, pretokenizing, tokenizing, & postprocessing)\n",
    "tokens = tokenize_text(sample_text)\n",
    "tokens = postprocess_tokens(tokens)\n",
    "\n",
    "print(tokens)"
   ],
   "outputs": [
    {
     "name": "stdout",
     "output_type": "stream",
     "text": [
      "['BOS', 'mr', '.', 'louis', 'continued', 'to', 'say', ',', '\"', 'penguins', 'are', 'important', ',', 'but', 'we', 'mustn', \"'\", 't', 'forget', 'the', 'nuumber', '1', 'priority', ':', 'the', 'reader', '!', '\"', 'EOS']\n"
     ]
    }
   ],
   "execution_count": 14
  },
  {
   "cell_type": "markdown",
   "metadata": {},
   "source": [
    "# Encoding & Decoding"
   ]
  },
  {
   "cell_type": "markdown",
   "metadata": {},
   "source": [
    "## Encoding Text to Token IDs\n",
    "\n",
    "Create an encoder (`encode()`) that will encode the token strings to integer IDs\n",
    "by defining how to map each token to a unique ID.\n",
    "\n",
    "> HINT: \n",
    "> \n",
    "> An easy method is to assign an arbitrary integer to each unique token from \n",
    "> the corpus by iterating through the unique tokens."
   ]
  },
  {
   "cell_type": "code",
   "metadata": {
    "ExecuteTime": {
     "end_time": "2025-03-20T14:54:59.159259Z",
     "start_time": "2025-03-20T14:54:59.156351Z"
    }
   },
   "source": [
    "# Sample corpus (normally this would be much bigger)\n",
    "sample_corpus = (\n",
    "    '''Mr. Louis continued to say, \"Penguins are important, \\nbut we mustn't forget the nuumber 1 priority: the READER!\"''',\n",
    "    '''BRUTUS:\\nHe's a lamb indeed, that baes like a bear.''',\n",
    "    '''Both by myself and many other friends:\\mBut he, his own affections' counsellor,\\nIs to himself--I will not say how true--\\nBut to himself so secret and so close,'''\n",
    ")"
   ],
   "outputs": [
    {
     "name": "stderr",
     "output_type": "stream",
     "text": [
      "<>:5: SyntaxWarning: invalid escape sequence '\\m'\n",
      "<>:5: SyntaxWarning: invalid escape sequence '\\m'\n",
      "/var/folders/1d/prhn4tz17m36nyc0x6pl9xqc0000gn/T/ipykernel_86200/2830881065.py:5: SyntaxWarning: invalid escape sequence '\\m'\n",
      "  '''Both by myself and many other friends:\\mBut he, his own affections' counsellor,\\nIs to himself--I will not say how true--\\nBut to himself so secret and so close,'''\n"
     ]
    }
   ],
   "execution_count": 15
  },
  {
   "cell_type": "code",
   "metadata": {
    "ExecuteTime": {
     "end_time": "2025-03-20T15:01:26.514674Z",
     "start_time": "2025-03-20T15:01:26.495424Z"
    }
   },
   "source": [
    "# TODO: Create an encoder to transform token strings to IDs using the sample\n",
    "# corpus as the basis of your encoding\n",
    "\n",
    "# TODO: Your code here (might be outside of the encode() function scope)\n",
    "\n",
    "unique_tokens=set()\n",
    "for text in sample_corpus:\n",
    "    tokens_from_text=tokenize_text(text)\n",
    "    tokens_from_text=postprocess_tokens(tokens_from_text)\n",
    "    unique_tokens.update(tokens_from_text)\n",
    "\n",
    "token2id = defaultdict(lambda: 0)\n",
    "token2id |= {\n",
    "    token: idx\n",
    "    for idx, token in enumerate(unique_tokens,1) #skip 0\n",
    "}\n",
    "\n",
    "id2token= defaultdict(lambda: '[UNK]')\n",
    "#NOTE: token2id is a dictionary with token as key and id as value\n",
    "#      id2token is a dictionary with id as key and token as value\n",
    "id2token |= {\n",
    "    idx: token\n",
    "    for token, idx in token2id.items()\n",
    "}\n",
    "def encode(tokens: list[str]) -> list[int]:\n",
    "    # TODO: Complete this function to encode tokens to integer IDs\n",
    "    encoded_tokens = [token2id[token] for token in tokens]\n",
    "    return encoded_tokens\n"
   ],
   "outputs": [],
   "execution_count": 16
  },
  {
   "cell_type": "markdown",
   "metadata": {},
   "source": [
    "### Test `encode()`"
   ]
  },
  {
   "cell_type": "code",
   "metadata": {
    "ExecuteTime": {
     "end_time": "2025-03-20T15:01:29.423010Z",
     "start_time": "2025-03-20T15:01:29.419630Z"
    }
   },
   "source": [
    "# Use sample text for testing\n",
    "sample_text = sample_corpus[0]\n",
    "# Create tokens (to be fed to encode())\n",
    "tokens = tokenize_text(sample_text)\n",
    "tokens = postprocess_tokens(tokens)\n",
    "print(f'Tokens:\\n{tokens}\\n')"
   ],
   "outputs": [
    {
     "name": "stdout",
     "output_type": "stream",
     "text": [
      "Tokens:\n",
      "['BOS', 'mr', '.', 'louis', 'continued', 'to', 'say', ',', '\"', 'penguins', 'are', 'important', ',', 'but', 'we', 'mustn', \"'\", 't', 'forget', 'the', 'nuumber', '1', 'priority', ':', 'the', 'reader', '!', '\"', 'EOS']\n",
      "\n"
     ]
    }
   ],
   "execution_count": 17
  },
  {
   "cell_type": "code",
   "metadata": {
    "ExecuteTime": {
     "end_time": "2025-03-20T15:01:30.489315Z",
     "start_time": "2025-03-20T15:01:30.486271Z"
    }
   },
   "source": [
    "# Test encode()\n",
    "encoded_tokens = encode(tokens)\n",
    "print(f'Encoded Tokens:\\n{encoded_tokens}\\n')"
   ],
   "outputs": [
    {
     "name": "stdout",
     "output_type": "stream",
     "text": [
      "Encoded Tokens:\n",
      "[24, 21, 45, 60, 7, 48, 5, 12, 41, 23, 19, 26, 12, 29, 46, 42, 44, 53, 47, 36, 18, 4, 17, 38, 36, 35, 56, 41, 57]\n",
      "\n"
     ]
    }
   ],
   "execution_count": 18
  },
  {
   "cell_type": "markdown",
   "metadata": {},
   "source": [
    "## Decoding Token IDs to Text\n",
    "\n",
    "Based on your enocder you created (`encode()`), create a decoder (`decode()`) to\n",
    "take a list of token IDs and map them to their associated token."
   ]
  },
  {
   "cell_type": "code",
   "metadata": {
    "ExecuteTime": {
     "end_time": "2025-03-21T07:09:58.525065Z",
     "start_time": "2025-03-21T07:09:58.514614Z"
    }
   },
   "source": [
    "# TODO: Create an encoder to transform IDs (from encode()) to token strings\n",
    "\n",
    "def decode(ids: list[int]) -> list[str]:\n",
    "    # TODO: Complete this function to decode integer IDs to token strings\n",
    "    token_strings = [id2token[idx] for idx in ids]\n",
    "    return token_strings"
   ],
   "outputs": [],
   "execution_count": 19
  },
  {
   "cell_type": "markdown",
   "metadata": {},
   "source": [
    "### Test `decode()`"
   ]
  },
  {
   "cell_type": "code",
   "metadata": {
    "ExecuteTime": {
     "end_time": "2025-03-21T07:10:01.831817Z",
     "start_time": "2025-03-21T07:10:01.828573Z"
    }
   },
   "source": [
    "# Use sample text for testing\n",
    "sample_text = sample_corpus[0]\n",
    "# Create tokens\n",
    "tokens = tokenize_text(sample_text)\n",
    "tokens = postprocess_tokens(tokens)\n",
    "print(f'Tokens:\\n{tokens}\\n')\n",
    "\n",
    "# Create token IDs (to be fed to decode())\n",
    "encoded_tokens = encode(tokens)\n",
    "print(f'Encoded Tokens:\\n{encoded_tokens}\\n')"
   ],
   "outputs": [
    {
     "name": "stdout",
     "output_type": "stream",
     "text": [
      "Tokens:\n",
      "['BOS', 'mr', '.', 'louis', 'continued', 'to', 'say', ',', '\"', 'penguins', 'are', 'important', ',', 'but', 'we', 'mustn', \"'\", 't', 'forget', 'the', 'nuumber', '1', 'priority', ':', 'the', 'reader', '!', '\"', 'EOS']\n",
      "\n",
      "Encoded Tokens:\n",
      "[24, 21, 45, 60, 7, 48, 5, 12, 41, 23, 19, 26, 12, 29, 46, 42, 44, 53, 47, 36, 18, 4, 17, 38, 36, 35, 56, 41, 57]\n",
      "\n"
     ]
    }
   ],
   "execution_count": 20
  },
  {
   "cell_type": "code",
   "metadata": {
    "ExecuteTime": {
     "end_time": "2025-03-21T07:10:03.298611Z",
     "start_time": "2025-03-21T07:10:03.295183Z"
    }
   },
   "source": [
    "# Test out decode()\n",
    "decoded_tokens = decode(encoded_tokens)\n",
    "print(f'Decoded Tokens:\\n{decoded_tokens}\\n')"
   ],
   "outputs": [
    {
     "name": "stdout",
     "output_type": "stream",
     "text": [
      "Decoded Tokens:\n",
      "['BOS', 'mr', '.', 'louis', 'continued', 'to', 'say', ',', '\"', 'penguins', 'are', 'important', ',', 'but', 'we', 'mustn', \"'\", 't', 'forget', 'the', 'nuumber', '1', 'priority', ':', 'the', 'reader', '!', '\"', 'EOS']\n",
      "\n"
     ]
    }
   ],
   "execution_count": 21
  },
  {
   "metadata": {},
   "cell_type": "code",
   "outputs": [],
   "execution_count": null,
   "source": ""
  }
 ],
 "metadata": {
  "kernelspec": {
   "display_name": "Python 3 (ipykernel)",
   "language": "python",
   "name": "python3"
  },
  "language_info": {
   "codemirror_mode": {
    "name": "ipython",
    "version": 3
   },
   "file_extension": ".py",
   "mimetype": "text/x-python",
   "name": "python",
   "nbconvert_exporter": "python",
   "pygments_lexer": "ipython3",
   "version": "3.10.13"
  }
 },
 "nbformat": 4,
 "nbformat_minor": 4
}
