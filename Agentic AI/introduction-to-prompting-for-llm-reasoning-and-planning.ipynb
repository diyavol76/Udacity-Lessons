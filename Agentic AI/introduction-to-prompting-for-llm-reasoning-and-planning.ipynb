{
 "cells": [
  {
   "cell_type": "markdown",
   "metadata": {},
   "source": [
    "# Pre-Lesson Exercise: Organize Your Workspace Space Kick-Off\n",
    "\n",
    "Before we get started on our course, let's take some time to set up and tidy our workspace. As an agentic twist on the matter, we will guide a Large Language Model (LLM) through a series of prompt refinements to create a practical plan to organize your personal work area.\n",
    "\n",
    "## Outline\n",
    "\n",
    "1. Start with a generic prompt\n",
    "2. Add a professional role\n",
    "3. Introduce concrete constraints\n",
    "4. Bonus: Apply what you've learned"
   ]
  },
  {
   "cell_type": "code",
   "metadata": {
    "ExecuteTime": {
     "end_time": "2025-08-11T11:48:36.453415Z",
     "start_time": "2025-08-11T11:48:36.187048Z"
    }
   },
   "source": [
    "# Import necessary libraries\n",
    "# No changes needed in this cell\n",
    "from openai import OpenAI\n",
    "from IPython.display import Markdown, display\n",
    "import os"
   ],
   "outputs": [],
   "execution_count": 1
  },
  {
   "metadata": {
    "ExecuteTime": {
     "end_time": "2025-08-11T11:50:47.897250Z",
     "start_time": "2025-08-11T11:50:47.893700Z"
    }
   },
   "cell_type": "code",
   "source": [
    "from dotenv import load_dotenv\n",
    "load_dotenv()\n",
    "api_key_x = os.getenv(\"OPENAI_API_KEY\")"
   ],
   "outputs": [],
   "execution_count": 4
  },
  {
   "cell_type": "code",
   "metadata": {
    "ExecuteTime": {
     "end_time": "2025-08-11T11:51:49.199005Z",
     "start_time": "2025-08-11T11:51:46.352481Z"
    }
   },
   "source": [
    "# If using the Vocareum API endpoint\n",
    "# TODO: Fill in the missing parts marked with **********\n",
    "\n",
    "#client = OpenAI(\n",
    "    #base_url=\"https://openai.vocareum.com/v1\",\n",
    "    # Uncomment one of the following\n",
    "    # api_key=\"**********\",  # <--- TODO: Fill in your Vocareum API key here\n",
    "    # api_key=os.getenv(\n",
    "    #     \"OPENAI_API_KEY\"\n",
    "    # ),  # <-- Alternately, set as an environment variable\n",
    "#)\n",
    "client = client = OpenAI(\n",
    "    base_url=\"https://api.openai.com/v1\",\n",
    "    api_key=api_key_x\n",
    ")\n",
    "resp = client.responses.create(\n",
    "    model=\"gpt-4.1\",\n",
    "    input=\"Tell me a three sentence bedtime story\"\n",
    ")\n",
    "\n",
    "print(resp.output_text)\n",
    "# If using OpenAI's API endpoint\n",
    "# client = OpenAI()\n"
   ],
   "outputs": [
    {
     "name": "stdout",
     "output_type": "stream",
     "text": [
      "Once upon a time, a tiny hedgehog named Pippa found a sparkling moonstone in the forest. She carried it home and placed it beside her bed, where it glowed softly and filled her dreams with magical adventures. Every night, Pippa drifted to sleep, knowing her moonstone would keep her safe until morning.\n"
     ]
    }
   ],
   "execution_count": 7
  },
  {
   "cell_type": "code",
   "metadata": {
    "ExecuteTime": {
     "end_time": "2025-08-11T11:57:44.576978Z",
     "start_time": "2025-08-11T11:57:44.568667Z"
    }
   },
   "source": [
    "# No changes needed in this cell\n",
    "from enum import Enum\n",
    "\n",
    "\n",
    "class OpenAIModels(str, Enum):\n",
    "    GPT_4O_MINI = \"gpt-4o-mini\"\n",
    "    GPT_41_MINI = \"gpt-4.1-mini\"\n",
    "    GPT_41_NANO = \"gpt-4.1-nano\"\n",
    "\n",
    "\n",
    "MODEL = OpenAIModels.GPT_41_NANO\n",
    "\n",
    "\n",
    "def get_completion(system_prompt, user_prompt, model=MODEL):\n",
    "    \"\"\"\n",
    "    Function to get a completion from the OpenAI API.\n",
    "    Args:\n",
    "        system_prompt: The system prompt\n",
    "        user_prompt: The user prompt\n",
    "        model: The model to use (default is gpt-4.1-mini)\n",
    "    Returns:\n",
    "        The completion text\n",
    "    \"\"\"\n",
    "    messages = [\n",
    "        {\"role\": \"user\", \"content\": user_prompt},\n",
    "    ]\n",
    "    if system_prompt is not None:\n",
    "        messages = [\n",
    "            {\"role\": \"system\", \"content\": system_prompt},\n",
    "            *messages,\n",
    "        ]\n",
    "    try:\n",
    "        response = client.chat.completions.create(\n",
    "            model=model,\n",
    "            messages=messages,\n",
    "            temperature=0.7,\n",
    "        )\n",
    "        return response.choices[0].message.content\n",
    "    except Exception as e:\n",
    "        return f\"An error occurred: {e}\"\n",
    "\n",
    "\n",
    "def display_responses(*args):\n",
    "    \"\"\"Helper function to display responses as Markdown, horizontally.\"\"\"\n",
    "    markdown_string = \"<table><tr>\"\n",
    "    # Headers\n",
    "    for arg in args:\n",
    "        markdown_string += f\"<th>System Prompt:<br />{arg['system_prompt']}<br /><br />\"\n",
    "        markdown_string += f\"User Prompt:<br />{arg['user_prompt']}</th>\"\n",
    "    markdown_string += \"</tr>\"\n",
    "    # Rows\n",
    "    markdown_string += \"<tr>\"\n",
    "    for arg in args:\n",
    "        markdown_string += f\"<td>Response:<br />{arg['response']}</td>\"\n",
    "    markdown_string += \"</tr></table>\"\n",
    "    display(Markdown(markdown_string))"
   ],
   "outputs": [],
   "execution_count": 8
  },
  {
   "cell_type": "markdown",
   "metadata": {},
   "source": [
    "## 1. Generic Prompt\n",
    "\n",
    "First, let's see what the model produces with a basic prompt."
   ]
  },
  {
   "cell_type": "code",
   "metadata": {
    "ExecuteTime": {
     "end_time": "2025-08-11T11:58:17.772245Z",
     "start_time": "2025-08-11T11:58:11.163422Z"
    }
   },
   "source": [
    "# No changes needed in this cell\n",
    "plain_system_prompt = \"You are a helpful assistant.\"  # A generic system prompt\n",
    "user_prompt = \"Give me a simple plan to declutter and organize my workspace.\"\n",
    "\n",
    "print(f\"Sending prompt to {MODEL} model...\")\n",
    "baseline_response = get_completion(plain_system_prompt, user_prompt)\n",
    "print(\"Response received!\\n\")\n",
    "\n",
    "display_responses(\n",
    "    {\n",
    "        \"system_prompt\": plain_system_prompt,\n",
    "        \"user_prompt\": user_prompt,\n",
    "        \"response\": baseline_response,\n",
    "    }\n",
    ")"
   ],
   "outputs": [
    {
     "name": "stdout",
     "output_type": "stream",
     "text": [
      "Sending prompt to OpenAIModels.GPT_41_NANO model...\n",
      "Response received!\n",
      "\n"
     ]
    },
    {
     "data": {
      "text/plain": [
       "<IPython.core.display.Markdown object>"
      ],
      "text/markdown": "<table><tr><th>System Prompt:<br />You are a helpful assistant.<br /><br />User Prompt:<br />Give me a simple plan to declutter and organize my workspace.</th></tr><tr><td>Response:<br />Certainly! Here's a simple step-by-step plan to declutter and organize your workspace:\n\n1. Set a Timer: Dedicate a specific amount of time, like 30 minutes to an hour, to focus on decluttering.\n2. Clear Your Desk: Remove everything from your desk and place it in a temporary pile.\n3. Sort Items: Categorize items into groups such as: Keep, Toss, and Relocate.\n   - Keep: Items you use regularly.\n   - Toss: Trash or recycle unnecessary items.\n   - Relocate: Items that belong elsewhere.\n4. Clean the Surface: Wipe down your desk and any other surfaces.\n5. Organize Essentials: Place frequently used items (e.g., pens, notepads, computer) within easy reach.\n6. Find Storage Solutions: Use organizers, drawers, or shelves to store less frequently used items.\n7. Create Zones: Designate specific areas for different tasks or types of items (e.g., work zone, supplies zone).\n8. Maintain Regularly: Spend a few minutes daily or weekly to keep your workspace tidy.\n9. Personalize Sparingly: Add a few personal touches to make your space inviting without cluttering.\n\nWould you like a printable checklist or tips for specific items?</td></tr></table>"
     },
     "metadata": {},
     "output_type": "display_data"
    }
   ],
   "execution_count": 9
  },
  {
   "cell_type": "markdown",
   "metadata": {},
   "source": [
    "y## 2. Add a Professional Role\n",
    "\n",
    "Now, let's add a professional role to see how it affects the response.\n",
    "\n",
    "<div style=\"color: red\">NOTE: We will use the same user prompt for these examples. All you need to do is vary the system prompt, which is where one would normally define the role for an LLM.</div>"
   ]
  },
  {
   "cell_type": "code",
   "metadata": {
    "ExecuteTime": {
     "end_time": "2025-08-11T11:59:19.610714Z",
     "start_time": "2025-08-11T11:59:16.661682Z"
    }
   },
   "source": [
    "# TODO: Write a system prompt starting with \"You are...\" replacing the ***********\n",
    "role_system_prompt = \"You are a certified professional organizer.\"\n",
    "\n",
    "print(\"Sending prompt with professional role...\")\n",
    "role_response = get_completion(role_system_prompt, user_prompt)\n",
    "print(\"Response received!\\n\")\n",
    "\n",
    "# Show last two prompts and responses\n",
    "display_responses(\n",
    "    {\n",
    "        \"system_prompt\": plain_system_prompt,\n",
    "        \"user_prompt\": user_prompt,\n",
    "        \"response\": baseline_response,\n",
    "    },\n",
    "    {\n",
    "        \"system_prompt\": role_system_prompt,\n",
    "        \"user_prompt\": user_prompt,\n",
    "        \"response\": role_response,\n",
    "    },\n",
    ")"
   ],
   "outputs": [
    {
     "name": "stdout",
     "output_type": "stream",
     "text": [
      "Sending prompt with professional role...\n",
      "Response received!\n",
      "\n"
     ]
    },
    {
     "data": {
      "text/plain": [
       "<IPython.core.display.Markdown object>"
      ],
      "text/markdown": "<table><tr><th>System Prompt:<br />You are a helpful assistant.<br /><br />User Prompt:<br />Give me a simple plan to declutter and organize my workspace.</th><th>System Prompt:<br />You are a certified professional organizer.<br /><br />User Prompt:<br />Give me a simple plan to declutter and organize my workspace.</th></tr><tr><td>Response:<br />Certainly! Here's a simple step-by-step plan to declutter and organize your workspace:\n\n1. Set a Timer: Dedicate a specific amount of time, like 30 minutes to an hour, to focus on decluttering.\n2. Clear Your Desk: Remove everything from your desk and place it in a temporary pile.\n3. Sort Items: Categorize items into groups such as: Keep, Toss, and Relocate.\n   - Keep: Items you use regularly.\n   - Toss: Trash or recycle unnecessary items.\n   - Relocate: Items that belong elsewhere.\n4. Clean the Surface: Wipe down your desk and any other surfaces.\n5. Organize Essentials: Place frequently used items (e.g., pens, notepads, computer) within easy reach.\n6. Find Storage Solutions: Use organizers, drawers, or shelves to store less frequently used items.\n7. Create Zones: Designate specific areas for different tasks or types of items (e.g., work zone, supplies zone).\n8. Maintain Regularly: Spend a few minutes daily or weekly to keep your workspace tidy.\n9. Personalize Sparingly: Add a few personal touches to make your space inviting without cluttering.\n\nWould you like a printable checklist or tips for specific items?</td><td>Response:<br />Certainly! Here's a simple, step-by-step plan to declutter and organize your workspace:\n\n### Step 1: Prepare\n- **Set aside time:** Dedicate a specific time block, such as 1-2 hours.\n- **Gather supplies:** Boxes or bins for sorting, trash bag, cleaning supplies, labels, and storage containers.\n\n### Step 2: Clear the Surface\n- Remove everything from your desk and shelves.\n- Wipe down surfaces to start fresh.\n\n### Step 3: Sort Items\nCreate categories such as:\n- **Keep:** Items you use regularly.\n- **Donate/Sell:** Items in good condition but no longer needed.\n- **Recycle/Trash:** Old, broken, or irrelevant items.\n\n### Step 4: Organize\n- **Designate zones:** Assign specific areas for different items (e.g., supplies, files, personal items).\n- **Use storage solutions:** Use drawers, filing cabinets, or organizers to keep items tidy.\n- **Label:** Clearly label containers and folders for easy retrieval.\n\n### Step 5: Maintain\n- Implement a daily or weekly habit of tidying your workspace.\n- Regularly review and purge unnecessary items.\n\nWould you like tips on specific organizational tools or digital decluttering?</td></tr></table>"
     },
     "metadata": {},
     "output_type": "display_data"
    }
   ],
   "execution_count": 10
  },
  {
   "cell_type": "markdown",
   "metadata": {},
   "source": [
    "## 3. Add Constraints\n",
    "\n",
    "Let's add specific constraints to see how the model prioritizes tasks. Let's add a time constraint, a budget constraint, and other constraints that are important for you."
   ]
  },
  {
   "cell_type": "code",
   "metadata": {
    "ExecuteTime": {
     "end_time": "2025-08-11T11:59:48.794985Z",
     "start_time": "2025-08-11T11:59:43.849292Z"
    }
   },
   "source": [
    "# TODO: Write a constraints system prompt replacing the ***********\n",
    "constraints_system_prompt = f\"\"\" {role_system_prompt}. I have only 15 minutes, a $20 budget, and limited floor space;\n",
    "I want to keep sentimental items but maximize desk surface.\"\"\"\n",
    "\n",
    "print(\"Sending prompt with constraints...\")\n",
    "constraints_response = get_completion(constraints_system_prompt, user_prompt)\n",
    "print(\"Response received!\\n\")\n",
    "\n",
    "# Show last two prompts and responses\n",
    "display_responses(\n",
    "    {\n",
    "        \"system_prompt\": role_system_prompt,\n",
    "        \"user_prompt\": user_prompt,\n",
    "        \"response\": role_response,\n",
    "    },\n",
    "    {\n",
    "        \"system_prompt\": constraints_system_prompt,\n",
    "        \"user_prompt\": user_prompt,\n",
    "        \"response\": constraints_response,\n",
    "    },\n",
    ")"
   ],
   "outputs": [
    {
     "name": "stdout",
     "output_type": "stream",
     "text": [
      "Sending prompt with constraints...\n",
      "Response received!\n",
      "\n"
     ]
    },
    {
     "data": {
      "text/plain": [
       "<IPython.core.display.Markdown object>"
      ],
      "text/markdown": "<table><tr><th>System Prompt:<br />You are a certified professional organizer.<br /><br />User Prompt:<br />Give me a simple plan to declutter and organize my workspace.</th><th>System Prompt:<br /> You are a certified professional organizer.. I have only 15 minutes, a $20 budget, and limited floor space;\nI want to keep sentimental items but maximize desk surface.<br /><br />User Prompt:<br />Give me a simple plan to declutter and organize my workspace.</th></tr><tr><td>Response:<br />Certainly! Here's a simple, step-by-step plan to declutter and organize your workspace:\n\n### Step 1: Prepare\n- **Set aside time:** Dedicate a specific time block, such as 1-2 hours.\n- **Gather supplies:** Boxes or bins for sorting, trash bag, cleaning supplies, labels, and storage containers.\n\n### Step 2: Clear the Surface\n- Remove everything from your desk and shelves.\n- Wipe down surfaces to start fresh.\n\n### Step 3: Sort Items\nCreate categories such as:\n- **Keep:** Items you use regularly.\n- **Donate/Sell:** Items in good condition but no longer needed.\n- **Recycle/Trash:** Old, broken, or irrelevant items.\n\n### Step 4: Organize\n- **Designate zones:** Assign specific areas for different items (e.g., supplies, files, personal items).\n- **Use storage solutions:** Use drawers, filing cabinets, or organizers to keep items tidy.\n- **Label:** Clearly label containers and folders for easy retrieval.\n\n### Step 5: Maintain\n- Implement a daily or weekly habit of tidying your workspace.\n- Regularly review and purge unnecessary items.\n\nWould you like tips on specific organizational tools or digital decluttering?</td><td>Response:<br />Absolutely! Here's a quick, focused plan to declutter and organize your workspace within 15 minutes and $20:\n\n**1. Clear Your Desk (3 minutes):**  \n- Remove all items from your desk surface.  \n- Quickly sort items into three piles: Keep on desk, Relocate elsewhere, Discard.\n\n**2. Prioritize Sentimental Items (2 minutes):**  \n- Keep only a few meaningful sentimental items on your desk (e.g., one or two photos or small keepsakes).  \n- Store the rest in a designated box or drawer to free up space.\n\n**3. Create a Designated Storage Space (4 minutes):**  \n- Use an affordable small container or tray (around $10 from a dollar store or home goods store) for essentials you need daily (pens, notepads, etc.).  \n- Assign a specific drawer or box for sentimental items and less-used supplies.\n\n**4. Maximize Desk Surface (3 minutes):**  \n- Place only the essentials on your desk—think minimal.  \n- Use vertical space: add a small wall-mounted or desk organizer for frequently used items if budget allows (check dollar stores or reuse household items).\n\n**5. Final Touch & Maintenance (3 minutes):**  \n- Wipe the surface clean.  \n- Quickly tidy up and put away any items that don’t belong on your desk.  \n- Make a mental note or a sticky note to maintain this organization daily.\n\n**Budget tips:**  \n- Use free or low-cost containers from around your home or dollar store for storage.  \n- Keep sentimental items in a labeled box or drawer, not on your desk surface.\n\nThis quick plan will help you keep sentimental items meaningful while maximizing your desk space and staying within your budget and time limits!</td></tr></table>"
     },
     "metadata": {},
     "output_type": "display_data"
    }
   ],
   "execution_count": 11
  },
  {
   "cell_type": "markdown",
   "metadata": {},
   "source": [
    "## Bonus: Apply what you've learned\n",
    "\n",
    "Try crafting a prompt for one of your own ideas or even a different organization task (e.g., digital file cleanup, closet overhaul)!"
   ]
  },
  {
   "cell_type": "code",
   "metadata": {
    "ExecuteTime": {
     "end_time": "2025-08-11T12:00:51.881680Z",
     "start_time": "2025-08-11T12:00:42.471279Z"
    }
   },
   "source": [
    "# Create your own prompts here!\n",
    "\n",
    "# TODO: Replace the ***********\n",
    "custom_system_prompt = \"\"\"\n",
    "You are a best-selling writer.\n",
    "\n",
    "In general:\n",
    "- You always explain your overall reasoning before providing the answer to a user's question.\n",
    "- Always conclude with a list of action items when asked for advice.\n",
    "- Do not end with a final question or sentence after this list of action items.\n",
    "\n",
    "\n",
    "\"\"\"\n",
    "user_prompt = \"\"\"\n",
    "Please generate a list of 10 ideas for an article about the benefits of meditation\n",
    "that millions of people will read and benefit from. The article is for a technical audience. \n",
    "\"\"\"\n",
    "\n",
    "# Uncomment the lines below to run your custom prompt\n",
    "print(\"Sending custom prompt...\")\n",
    "custom_response = get_completion(custom_system_prompt, user_prompt)\n",
    "print(\"Response received!\\n\")\n",
    "\n",
    "display_responses(\n",
    "    {\n",
    "        \"system_prompt\": custom_system_prompt,\n",
    "        \"user_prompt\": user_prompt,\n",
    "        \"response\": custom_response,\n",
    "    }\n",
    ")"
   ],
   "outputs": [
    {
     "name": "stdout",
     "output_type": "stream",
     "text": [
      "Sending custom prompt...\n",
      "Response received!\n",
      "\n"
     ]
    },
    {
     "data": {
      "text/plain": [
       "<IPython.core.display.Markdown object>"
      ],
      "text/markdown": "<table><tr><th>System Prompt:<br />\nYou are a best-selling writer.\n\nIn general:\n- You always explain your overall reasoning before providing the answer to a user's question.\n- Always conclude with a list of action items when asked for advice.\n- Do not end with a final question or sentence after this list of action items.\n\n\n<br /><br />User Prompt:<br />\nPlease generate a list of 10 ideas for an article about the benefits of meditation\nthat millions of people will read and benefit from. The article is for a technical audience. \n</th></tr><tr><td>Response:<br />To generate compelling article ideas for a technical audience about the benefits of meditation, I need to consider what aspects of meditation can resonate with professionals in fields like technology, engineering, data science, or related disciplines. Such an audience likely values scientific evidence, neurological insights, productivity impacts, and practical applications that can be integrated into their routines.\n\nHere's my reasoning process:\n\n1. Focus on neuroscientific insights: Explain how meditation affects brain structure and function, appealing to a technically literate audience.\n2. Emphasize productivity and cognitive benefits: Highlight how meditation enhances focus, memory, and problem-solving skills relevant to their work.\n3. Discuss stress reduction from a physiological perspective: Present data on how meditation modulates stress responses, which is crucial for high-pressure environments.\n4. Explore the role of meditation in improving mental health: Link to mental resilience, emotional regulation, and burnout prevention.\n5. Integrate technological tools: Review apps, biofeedback devices, or AI-driven meditation programs for optimized practice.\n6. Present case studies or research findings: Showcase studies involving tech professionals or data-driven assessments of meditation benefits.\n7. Address implementation in busy schedules: Offer insights into integrating meditation into daily routines with minimal disruption.\n8. Analyze long-term neural adaptations: Discuss how consistent meditation can lead to lasting changes in brain connectivity.\n9. Investigate meditation’s impact on creativity and innovation: Connect meditative states with enhanced ideation and problem-solving.\n10. Future directions: Explore emerging technologies like neurofeedback, VR meditation environments, or AI-guided mindfulness that could revolutionize practice.\n\nBased on this reasoning, here are 10 article ideas:\n\n1. \"Neuroscience of Meditation: How Mindfulness Reshapes the Brain for Enhanced Cognitive Performance\"\n2. \"Boosting Productivity: Scientific Evidence on Meditation’s Role in Focus and Problem-Solving for Tech Professionals\"\n3. \"Stress Reduction through Meditation: A Data-Driven Approach to Managing Workplace Pressure\"\n4. \"Mental Resilience in the Digital Age: How Meditation Supports Emotional Health for High-Performers\"\n5. \"Tech-Enabled Meditation: Leveraging AI and Biofeedback Devices to Optimize Your Practice\"\n6. \"Case Studies: The Impact of Meditation on Tech Industry Leaders and Innovation Teams\"\n7. \"Integrating Meditation into a Busy Tech Schedule: Practical Strategies Backed by Scientific Research\"\n8. \"Neural Plasticity and Meditation: Long-Term Brain Changes That Enhance Creativity and Adaptability\"\n9. \"Mindfulness and Innovation: How Meditation Facilitates Creative Thinking in Technical Fields\"\n10. \"The Future of Meditation: Emerging Technologies Like VR and Neurofeedback Transforming Mindfulness Practice\"\n\nAction Items:\n- Select 2-3 of these ideas that resonate most with your goals.\n- Conduct current scientific research and technological developments related to those topics.\n- Develop a detailed outline emphasizing technical insights and practical applications.\n- Incorporate relevant data, case studies, or expert opinions to strengthen credibility.\n- Write the article, ensuring clarity and engagement for a technically savvy audience.</td></tr></table>"
     },
     "metadata": {},
     "output_type": "display_data"
    }
   ],
   "execution_count": 12
  },
  {
   "cell_type": "markdown",
   "metadata": {},
   "source": [
    "## Summary\n",
    "\n",
    "In this exercise, we explored how different prompt refinements affect the output of an LLM:\n",
    "\n",
    "1. **Generic Prompt**: We started with a simple request for a workspace organization plan.\n",
    "2. **Professional Role**: We added a specific role to enhance expertise and authority.\n",
    "3. **Concrete Constraints**: We introduced specific limitations that required prioritization.\n",
    "4. **Step-by-Step Reasoning**: We requested explicit reasoning to understand the model's thought process.\n",
    "\n",
    "These techniques demonstrate how prompt engineering can significantly improve the usefulness and relevance of AI-generated content for specific needs.\n",
    "\n",
    "Excellent Work! 🚀"
   ]
  }
 ],
 "metadata": {
  "kernelspec": {
   "display_name": ".venv",
   "language": "python",
   "name": "python3"
  },
  "language_info": {
   "codemirror_mode": {
    "name": "ipython",
    "version": 3
   },
   "file_extension": ".py",
   "mimetype": "text/x-python",
   "name": "python",
   "nbconvert_exporter": "python",
   "pygments_lexer": "ipython3",
   "version": "3.12.6"
  }
 },
 "nbformat": 4,
 "nbformat_minor": 4
}
